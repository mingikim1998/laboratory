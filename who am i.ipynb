{
 "cells": [
  {
   "cell_type": "markdown",
   "metadata": {},
   "source": [
    "# 자기소개\n",
    "\n",
    "![Alt text](https://www.ecomagazine.com/images/Newsletter/0_2019/Week_11-18-19/birdseyeview_ocean.jpg)\n",
    "\n",
    "\n",
    "---\n",
    "\n",
    "안녕하세요, 아이펠 기본과정 수강생 김민기 입니다.\n",
    "\n",
    "전공은 물류이고 알고리즘과 파이썬 과목을 수강하고 관심을 갖게 되었어요.\n",
    "\n",
    "현재 학교에서 딥러닝도 수강 중입니다. ~~학기가 이제 시작했지만~~\n",
    "\n",
    "---\n",
    "\n",
    "### 취미 \n",
    "   수영   \n",
    "   스노우보드\n",
    "\n",
    "---\n",
    "\n",
    "### 취미2\n",
    "\n",
    ">노래\n",
    ">>[유튜브](https://www.youtube.com/watch?v=C7dPjN2WU_4\"유튜브\")   \n",
    ">>[유튜브](https://www.youtube.com/watch?v=jGflUbPQfW8\"유튜브\")\n",
    "\n",
    "| 1 | 2 | 3 | 4 |\n",
    "| - | - | - | - |"
   ]
  },
  {
   "cell_type": "code",
   "execution_count": null,
   "metadata": {},
   "outputs": [],
   "source": []
  },
  {
   "cell_type": "code",
   "execution_count": null,
   "metadata": {},
   "outputs": [],
   "source": []
  }
 ],
 "metadata": {
  "kernelspec": {
   "display_name": "datascience",
   "language": "python",
   "name": "datascience"
  },
  "language_info": {
   "codemirror_mode": {
    "name": "ipython",
    "version": 3
   },
   "file_extension": ".py",
   "mimetype": "text/x-python",
   "name": "python",
   "nbconvert_exporter": "python",
   "pygments_lexer": "ipython3",
   "version": "3.8.5"
  }
 },
 "nbformat": 4,
 "nbformat_minor": 4
}
