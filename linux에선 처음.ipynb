{
 "cells": [
  {
   "cell_type": "markdown",
   "metadata": {},
   "source": [
    "# 자기소개\n",
    "\n",
    "![Alt text](/home/mingi/다운로드/to/mypic.jpg)\n",
    "\n",
    "---\n",
    "안녕하세요, 아이펠 기본과정 수강생 김민기 입니다.\n",
    "\n",
    "전공은 물류이고 알고리즘과 파이썬 과목을 수강하고 관심을 갖게 되었어요.\n",
    "\n",
    "현재 학교에서 딥러닝도 수강 중입니다. ~~학기가 이제 시작했지만~~\n",
    "\n",
    "\n",
    "### 취미 \n",
    "   수영   \n",
    "   스노우보드\n",
    "   \n",
    "   "
   ]
  },
  {
   "cell_type": "markdown",
   "metadata": {},
   "source": []
  }
 ],
 "metadata": {
  "kernelspec": {
   "display_name": "datascience",
   "language": "python",
   "name": "datascience"
  },
  "language_info": {
   "codemirror_mode": {
    "name": "ipython",
    "version": 3
   },
   "file_extension": ".py",
   "mimetype": "text/x-python",
   "name": "python",
   "nbconvert_exporter": "python",
   "pygments_lexer": "ipython3",
   "version": "3.8.5"
  }
 },
 "nbformat": 4,
 "nbformat_minor": 4
}
